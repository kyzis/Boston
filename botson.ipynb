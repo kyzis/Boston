{
  "nbformat": 4,
  "nbformat_minor": 0,
  "metadata": {
    "colab": {
      "name": "botson.ipynb",
      "version": "0.3.2",
      "provenance": [],
      "collapsed_sections": [],
      "include_colab_link": true
    },
    "kernelspec": {
      "name": "python3",
      "display_name": "Python 3"
    }
  },
  "cells": [
    {
      "cell_type": "markdown",
      "metadata": {
        "id": "view-in-github",
        "colab_type": "text"
      },
      "source": [
        "<a href=\"https://colab.research.google.com/github/kyzis/Boston/blob/master/botson.ipynb\" target=\"_parent\"><img src=\"https://colab.research.google.com/assets/colab-badge.svg\" alt=\"Open In Colab\"/></a>"
      ]
    },
    {
      "metadata": {
        "id": "Ty3GjmHZ1fQr",
        "colab_type": "code",
        "colab": {
          "base_uri": "https://localhost:8080/",
          "height": 173
        },
        "outputId": "c9067131-866f-45a0-a738-97409c1d12aa"
      },
      "cell_type": "code",
      "source": [
        "!pip install lightgbm"
      ],
      "execution_count": 7,
      "outputs": [
        {
          "output_type": "stream",
          "text": [
            "Collecting lightgbm\n",
            "\u001b[?25l  Downloading https://files.pythonhosted.org/packages/4c/3b/4ae113193b4ee01387ed76d5eea32788aec0589df9ae7378a8b7443eaa8b/lightgbm-2.2.2-py2.py3-none-manylinux1_x86_64.whl (1.2MB)\n",
            "\u001b[K    100% |████████████████████████████████| 1.2MB 14.6MB/s \n",
            "\u001b[?25hRequirement already satisfied: scikit-learn in /usr/local/lib/python3.6/dist-packages (from lightgbm) (0.19.2)\n",
            "Requirement already satisfied: scipy in /usr/local/lib/python3.6/dist-packages (from lightgbm) (1.1.0)\n",
            "Requirement already satisfied: numpy in /usr/local/lib/python3.6/dist-packages (from lightgbm) (1.14.6)\n",
            "Installing collected packages: lightgbm\n",
            "Successfully installed lightgbm-2.2.2\n"
          ],
          "name": "stdout"
        }
      ]
    },
    {
      "metadata": {
        "id": "YinWv7JC7TZ4",
        "colab_type": "code",
        "colab": {
          "base_uri": "https://localhost:8080/",
          "height": 105
        },
        "outputId": "eb6490f3-8435-4b4a-9a4a-a9c578d0febb"
      },
      "cell_type": "code",
      "source": [
        "!pip install graphviz"
      ],
      "execution_count": 66,
      "outputs": [
        {
          "output_type": "stream",
          "text": [
            "Collecting graphviz\n",
            "  Downloading https://files.pythonhosted.org/packages/1f/e2/ef2581b5b86625657afd32030f90cf2717456c1d2b711ba074bf007c0f1a/graphviz-0.10.1-py2.py3-none-any.whl\n",
            "Installing collected packages: graphviz\n",
            "Successfully installed graphviz-0.10.1\n"
          ],
          "name": "stdout"
        }
      ]
    },
    {
      "metadata": {
        "id": "SDs1MqIT2WXU",
        "colab_type": "code",
        "colab": {}
      },
      "cell_type": "code",
      "source": [
        "import numpy as np\n",
        "import pandas as pd\n",
        "import tensorflow as tf\n",
        "from matplotlib import pyplot as plt\n",
        "from sklearn.model_selection import train_test_split\n",
        "from sklearn.preprocessing import MaxAbsScaler\n",
        "import keras\n",
        "import lightgbm as lgb\n",
        "from sklearn.metrics import mean_squared_error\n",
        "import sklearn\n"
      ],
      "execution_count": 0,
      "outputs": []
    },
    {
      "metadata": {
        "id": "6BlwxTeZ2wLQ",
        "colab_type": "code",
        "colab": {}
      },
      "cell_type": "code",
      "source": [
        "from sklearn.datasets import load_boston\n",
        "boston = load_boston()"
      ],
      "execution_count": 0,
      "outputs": []
    },
    {
      "metadata": {
        "id": "sXMHUxGV2xhg",
        "colab_type": "code",
        "colab": {}
      },
      "cell_type": "code",
      "source": [
        "bos = pd.DataFrame(boston.data)\n",
        "bos.columns = boston.feature_names\n",
        "bos['PRICE'] = boston.target\n",
        "X = bos.drop('PRICE', axis = 1)\n",
        "Y = bos['PRICE']"
      ],
      "execution_count": 0,
      "outputs": []
    },
    {
      "metadata": {
        "id": "UF8Suwjq2zWl",
        "colab_type": "code",
        "colab": {}
      },
      "cell_type": "code",
      "source": [
        "X_train, X_test, Y_train, Y_test = train_test_split(X, Y, test_size = 0.33, random_state = 5)\n"
      ],
      "execution_count": 0,
      "outputs": []
    },
    {
      "metadata": {
        "id": "xveu7GXf3grk",
        "colab_type": "code",
        "colab": {}
      },
      "cell_type": "code",
      "source": [
        "lgb_train = lgb.Dataset(X_train, Y_train)\n",
        "lgb_eval = lgb.Dataset(X_test, Y_test, reference=lgb_train)\n"
      ],
      "execution_count": 0,
      "outputs": []
    },
    {
      "metadata": {
        "id": "QYLxzkZ83jhI",
        "colab_type": "code",
        "colab": {
          "base_uri": "https://localhost:8080/",
          "height": 918
        },
        "outputId": "21278e5f-af5f-4afc-a89d-c2da29c3fa02"
      },
      "cell_type": "code",
      "source": [
        "evals_result = {}\n",
        "\n",
        "params = {\n",
        "    'boosting_type': 'gbdt',\n",
        "    'objective': 'regression',\n",
        "    'metric': {'l2', 'l1'},\n",
        "    'max_depth' : 50,\n",
        "    'num_leaves': 3300,\n",
        "    'num_trees': 1000,\n",
        "    'learning_rate': 0.05,\n",
        "    'feature_fraction': 0.8,\n",
        "    'bagging_fraction': 0.9,\n",
        "    'bagging_freq': 3,\n",
        "    'verbose': 1\n",
        "}\n",
        "\n",
        "print('Starting training...')\n",
        "# train\n",
        "gbm = lgb.train(params,\n",
        "                lgb_train,\n",
        "                num_boost_round=1000,\n",
        "                valid_sets=lgb_eval,\n",
        "                evals_result=evals_result,\n",
        "                early_stopping_rounds=100,\n",
        "               verbose_eval=10)"
      ],
      "execution_count": 72,
      "outputs": [
        {
          "output_type": "stream",
          "text": [
            "Starting training...\n",
            "Training until validation scores don't improve for 100 rounds.\n",
            "[10]\tvalid_0's l1: 4.98743\tvalid_0's l2: 51.2554\n",
            "[20]\tvalid_0's l1: 3.88634\tvalid_0's l2: 34.6874\n",
            "[30]\tvalid_0's l1: 3.2465\tvalid_0's l2: 26.0125\n",
            "[40]\tvalid_0's l1: 2.92987\tvalid_0's l2: 22.3033\n",
            "[50]\tvalid_0's l1: 2.81552\tvalid_0's l2: 20.6785\n",
            "[60]\tvalid_0's l1: 2.74098\tvalid_0's l2: 19.419\n",
            "[70]\tvalid_0's l1: 2.6833\tvalid_0's l2: 18.3518\n",
            "[80]\tvalid_0's l1: 2.63949\tvalid_0's l2: 17.7848\n",
            "[90]\tvalid_0's l1: 2.62381\tvalid_0's l2: 17.5518\n",
            "[100]\tvalid_0's l1: 2.60433\tvalid_0's l2: 17.1412\n",
            "[110]\tvalid_0's l1: 2.60778\tvalid_0's l2: 17.0181\n"
          ],
          "name": "stdout"
        },
        {
          "output_type": "stream",
          "text": [
            "/usr/local/lib/python3.6/dist-packages/lightgbm/engine.py:116: UserWarning: Found `num_trees` in params. Will use it instead of argument\n",
            "  warnings.warn(\"Found `{}` in params. Will use it instead of argument\".format(alias))\n"
          ],
          "name": "stderr"
        },
        {
          "output_type": "stream",
          "text": [
            "[120]\tvalid_0's l1: 2.59464\tvalid_0's l2: 16.7424\n",
            "[130]\tvalid_0's l1: 2.60041\tvalid_0's l2: 16.6153\n",
            "[140]\tvalid_0's l1: 2.58292\tvalid_0's l2: 16.2938\n",
            "[150]\tvalid_0's l1: 2.58098\tvalid_0's l2: 15.9551\n",
            "[160]\tvalid_0's l1: 2.58085\tvalid_0's l2: 15.7483\n",
            "[170]\tvalid_0's l1: 2.57373\tvalid_0's l2: 15.6064\n",
            "[180]\tvalid_0's l1: 2.57345\tvalid_0's l2: 15.4947\n",
            "[190]\tvalid_0's l1: 2.58044\tvalid_0's l2: 15.3775\n",
            "[200]\tvalid_0's l1: 2.58281\tvalid_0's l2: 15.2562\n",
            "[210]\tvalid_0's l1: 2.57902\tvalid_0's l2: 15.1251\n",
            "[220]\tvalid_0's l1: 2.57015\tvalid_0's l2: 15.0106\n",
            "[230]\tvalid_0's l1: 2.56765\tvalid_0's l2: 14.9144\n",
            "[240]\tvalid_0's l1: 2.56251\tvalid_0's l2: 14.7678\n",
            "[250]\tvalid_0's l1: 2.55251\tvalid_0's l2: 14.5917\n",
            "[260]\tvalid_0's l1: 2.54271\tvalid_0's l2: 14.3997\n",
            "[270]\tvalid_0's l1: 2.53152\tvalid_0's l2: 14.188\n",
            "[280]\tvalid_0's l1: 2.52907\tvalid_0's l2: 14.1096\n",
            "[290]\tvalid_0's l1: 2.5257\tvalid_0's l2: 14.076\n",
            "[300]\tvalid_0's l1: 2.51817\tvalid_0's l2: 14.0005\n",
            "[310]\tvalid_0's l1: 2.5109\tvalid_0's l2: 13.994\n",
            "[320]\tvalid_0's l1: 2.50638\tvalid_0's l2: 13.9463\n",
            "[330]\tvalid_0's l1: 2.50075\tvalid_0's l2: 13.8236\n",
            "[340]\tvalid_0's l1: 2.50291\tvalid_0's l2: 13.7618\n",
            "[350]\tvalid_0's l1: 2.50103\tvalid_0's l2: 13.6772\n",
            "[360]\tvalid_0's l1: 2.49809\tvalid_0's l2: 13.6791\n",
            "[370]\tvalid_0's l1: 2.49313\tvalid_0's l2: 13.5658\n",
            "[380]\tvalid_0's l1: 2.49381\tvalid_0's l2: 13.4942\n",
            "[390]\tvalid_0's l1: 2.49927\tvalid_0's l2: 13.4881\n",
            "[400]\tvalid_0's l1: 2.49844\tvalid_0's l2: 13.41\n",
            "[410]\tvalid_0's l1: 2.49905\tvalid_0's l2: 13.4147\n",
            "[420]\tvalid_0's l1: 2.49645\tvalid_0's l2: 13.3491\n",
            "[430]\tvalid_0's l1: 2.50188\tvalid_0's l2: 13.3677\n",
            "[440]\tvalid_0's l1: 2.50503\tvalid_0's l2: 13.3396\n",
            "[450]\tvalid_0's l1: 2.50839\tvalid_0's l2: 13.2722\n",
            "[460]\tvalid_0's l1: 2.50692\tvalid_0's l2: 13.2365\n",
            "[470]\tvalid_0's l1: 2.50257\tvalid_0's l2: 13.1681\n",
            "Early stopping, best iteration is:\n",
            "[375]\tvalid_0's l1: 2.49099\tvalid_0's l2: 13.5553\n"
          ],
          "name": "stdout"
        }
      ]
    },
    {
      "metadata": {
        "id": "U41a62gV3tZM",
        "colab_type": "code",
        "colab": {
          "base_uri": "https://localhost:8080/",
          "height": 34
        },
        "outputId": "686e07cb-ddec-47ad-95d5-9a9dd593a926"
      },
      "cell_type": "code",
      "source": [
        "Y_pred = gbm.predict(X_test, num_iteration=gbm.best_iteration)\n",
        "# eval\n",
        "print('The rmse of prediction is:', mean_squared_error(Y_test, Y_pred) ** 0.5)\n"
      ],
      "execution_count": 73,
      "outputs": [
        {
          "output_type": "stream",
          "text": [
            "The rmse of prediction is: 3.68175323519557\n"
          ],
          "name": "stdout"
        }
      ]
    },
    {
      "metadata": {
        "id": "JUQ4K0C66xnY",
        "colab_type": "code",
        "colab": {
          "base_uri": "https://localhost:8080/",
          "height": 752
        },
        "outputId": "0b603276-b8d9-4841-d7d9-758b55bbc04b"
      },
      "cell_type": "code",
      "source": [
        "print('Plotting metrics recorded during training...')\n",
        "ax = lgb.plot_metric(evals_result, metric='l1')\n",
        "ab = lgb.plot_metric(evals_result, metric='l2')\n",
        "plt.show()"
      ],
      "execution_count": 74,
      "outputs": [
        {
          "output_type": "stream",
          "text": [
            "Plotting metrics recorded during training...\n"
          ],
          "name": "stdout"
        },
        {
          "output_type": "display_data",
          "data": {
            "image/png": "[encoded data removed]",
            "text/plain": [
              "<matplotlib.figure.Figure at 0x7fc40c41b320>"
            ]
          },
          "metadata": {
            "tags": []
          }
        },
        {
          "output_type": "display_data",
          "data": {
            "image/png": "[encoded data removed]",
            "text/plain": [
              "<matplotlib.figure.Figure at 0x7fc40c41b710>"
            ]
          },
          "metadata": {
            "tags": []
          }
        }
      ]
    },
    {
      "metadata": {
        "id": "cgwmlytG4OLm",
        "colab_type": "code",
        "colab": {
          "base_uri": "https://localhost:8080/",
          "height": 85
        },
        "outputId": "e65ea6dd-a499-4afb-9bca-a79e3f4a9621"
      },
      "cell_type": "code",
      "source": [
        "print(\"Predicted Median : %2f\" %np.median(Y_pred))\n",
        "print(\"Test set Median : %2f\" %np.median(Y_test))\n",
        "print(\"Predicted Mean : %2f\" %np.mean(Y_pred))\n",
        "print(\"Test set Mean : %2f\" %np.mean(Y_test))\n"
      ],
      "execution_count": 75,
      "outputs": [
        {
          "output_type": "stream",
          "text": [
            "Predicted Median : 20.964770\n",
            "Test set Median : 20.700000\n",
            "Predicted Mean : 22.237649\n",
            "Test set Mean : 22.523952\n"
          ],
          "name": "stdout"
        }
      ]
    },
    {
      "metadata": {
        "id": "JPEPuZca4zDT",
        "colab_type": "code",
        "colab": {
          "base_uri": "https://localhost:8080/",
          "height": 393
        },
        "outputId": "19692179-1a4b-47ec-af69-ceb50aef7597"
      },
      "cell_type": "code",
      "source": [
        "lgb.plot_importance(gbm, importance_type=\"split\", title=\"split\")\n",
        "#this graph shows the importance of each features"
      ],
      "execution_count": 76,
      "outputs": [
        {
          "output_type": "execute_result",
          "data": {
            "text/plain": [
              "<matplotlib.axes._subplots.AxesSubplot at 0x7fc40c3f7da0>"
            ]
          },
          "metadata": {
            "tags": []
          },
          "execution_count": 76
        },
        {
          "output_type": "display_data",
          "data": {
            "image/png": "[encoded data removed]",
            "text/plain": [
              "<matplotlib.figure.Figure at 0x7fc40c388128>"
            ]
          },
          "metadata": {
            "tags": []
          }
        }
      ]
    }
  ]
}